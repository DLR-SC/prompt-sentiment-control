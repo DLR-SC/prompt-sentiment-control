{
 "cells": [
  {
   "cell_type": "markdown",
   "metadata": {},
   "source": [
    "# Zero-Shot Prompts"
   ]
  },
  {
   "cell_type": "markdown",
   "metadata": {},
   "source": [
    "### Set up the OpenAI API"
   ]
  },
  {
   "cell_type": "code",
   "execution_count": 1,
   "metadata": {},
   "outputs": [],
   "source": [
    "from openai import OpenAI\n",
    "from dotenv import load_dotenv\n",
    "import pandas as pd\n",
    "import os\n",
    "import util\n",
    "\n",
    "load_dotenv()\n",
    "\n",
    "# Initiate the OpenAI key\n",
    "client = OpenAI(\n",
    "    api_key=os.getenv(\"OPEN_AI_KEY\"),\n",
    ")"
   ]
  },
  {
   "cell_type": "markdown",
   "metadata": {},
   "source": [
    "## Preparation"
   ]
  },
  {
   "cell_type": "markdown",
   "metadata": {},
   "source": [
    "### Load Queries"
   ]
  },
  {
   "cell_type": "code",
   "execution_count": null,
   "metadata": {},
   "outputs": [],
   "source": [
    "all_factual_queries = util.load_file('Queries/factual-queries.txt')\n",
    "factual_queries = all_factual_queries[10:11]\n",
    "\n",
    "all_subjective_queries = util.load_file('Queries/subjective-queries.txt')\n",
    "subjective_queries = all_subjective_queries[10:11]\n",
    "\n",
    "print(F\"{len(factual_queries)} factual queries have been loaded: {factual_queries}\")\n",
    "print(F\"{len(subjective_queries)} subjective queries have been loaded: {subjective_queries}\")"
   ]
  },
  {
   "cell_type": "markdown",
   "metadata": {},
   "source": [
    "### Setup Emotions"
   ]
  },
  {
   "cell_type": "code",
   "execution_count": 3,
   "metadata": {},
   "outputs": [],
   "source": [
    "emotions = [\"anger\", \"disgust\", \"fear\", \"joy\", \"sadness\", \"surprise\"]"
   ]
  },
  {
   "cell_type": "markdown",
   "metadata": {},
   "source": [
    "## Instruction Optimization"
   ]
  },
  {
   "cell_type": "markdown",
   "metadata": {},
   "source": [
    "### Instruction"
   ]
  },
  {
   "cell_type": "code",
   "execution_count": null,
   "metadata": {},
   "outputs": [],
   "source": [
    "factual_prompt = \"Answer the following question expressing {emotion}. {query}\"\n",
    "subjective_prompt = \"Write a text of 100 words based on the following task. Your output text should express {emotion}. {query}\"\n",
    "\n",
    "util.generate_emotional_responses(factual_queries, client, emotions, factual_prompt, \"zero_shot_instruction_factual\")\n",
    "util.generate_emotional_responses(subjective_queries, client, emotions, subjective_prompt, \"zero_shot_instruction_subjective\")"
   ]
  },
  {
   "cell_type": "markdown",
   "metadata": {},
   "source": [
    "### Delimiter 1: \\#\\#\\#"
   ]
  },
  {
   "cell_type": "code",
   "execution_count": null,
   "metadata": {},
   "outputs": [],
   "source": [
    "factual_prompt = \"Answer the question delimited by triple hashtags expressing {emotion}. ###{query}####\"\n",
    "subjective_prompt = \"Write a text of 100 words based on the task delimited by triple hashtags. Your output text should express {emotion}. ###{query}###\"\n",
    "\n",
    "util.generate_emotional_responses(factual_queries, client, emotions, factual_prompt, \"zero_shot_delimiter1_factual\")\n",
    "util.generate_emotional_responses(subjective_queries, client, emotions, subjective_prompt, \"zero_shot_delimiter1_subjective\")"
   ]
  },
  {
   "cell_type": "markdown",
   "metadata": {},
   "source": [
    "### Delimiter 2: <> </>"
   ]
  },
  {
   "cell_type": "code",
   "execution_count": null,
   "metadata": {},
   "outputs": [],
   "source": [
    "factual_prompt = \"Answer the question delimited with XML tags expressing {emotion}.<question>{query}</question>\"\n",
    "subjective_prompt = \"Write a text of 100 words based on the task delimited with XML tags. Your output text should express {emotion}.<task>{query}</task>\"\n",
    "\n",
    "util.generate_emotional_responses(factual_queries, client, emotions, factual_prompt, \"zero_shot_delimiter2_factual\")\n",
    "util.generate_emotional_responses(subjective_queries, client, emotions, subjective_prompt, \"zero_shot_delimiter2_subjective\")"
   ]
  },
  {
   "cell_type": "markdown",
   "metadata": {},
   "source": [
    "### Delimiter 3: \"\"\""
   ]
  },
  {
   "cell_type": "code",
   "execution_count": null,
   "metadata": {},
   "outputs": [],
   "source": [
    "factual_prompt = 'Answer the question delimited by triple quotes expressing {emotion}. \"\"\"{query}\"\"\"\"'\n",
    "subjective_prompt = 'Write a text of 100 words based on the task delimited by triple quotes. Your output text should express {emotion}. \"\"\"{query}\"\"\"\"'\n",
    "\n",
    "util.generate_emotional_responses(factual_queries, client, emotions, factual_prompt, \"zero_shot_delimiter3_factual\")\n",
    "util.generate_emotional_responses(subjective_queries, client, emotions, subjective_prompt, \"zero_shot_delimiter3_subjective\")"
   ]
  },
  {
   "cell_type": "markdown",
   "metadata": {},
   "source": [
    "## Persona Optimization"
   ]
  },
  {
   "cell_type": "code",
   "execution_count": 5,
   "metadata": {},
   "outputs": [],
   "source": [
    "factual_prompt = \"Answer the following question expressing {emotion}. {query}\"\n",
    "subjective_prompt = \"Write a text of 100 words based on the following task. Your output text should express {emotion}. {query}\""
   ]
  },
  {
   "cell_type": "markdown",
   "metadata": {},
   "source": [
    "### Persona emotional"
   ]
  },
  {
   "cell_type": "code",
   "execution_count": null,
   "metadata": {},
   "outputs": [],
   "source": [
    "system_prompt = \"You are a very emotional person. At the moment, you feel {emotion}.\"\n",
    "\n",
    "util.generate_emotional_responses(factual_queries, client, emotions, factual_prompt, \"zero_shot_p-emotional_factual\", system_prompt=system_prompt)\n",
    "util.generate_emotional_responses(subjective_queries, client, emotions, subjective_prompt, \"zero_shot_p-emotional_subjective\", system_prompt=system_prompt)"
   ]
  },
  {
   "cell_type": "markdown",
   "metadata": {},
   "source": [
    "### Persona expert"
   ]
  },
  {
   "cell_type": "code",
   "execution_count": null,
   "metadata": {},
   "outputs": [],
   "source": [
    "system_prompt = \"You are an expert in expressing emotions.\"\n",
    "\n",
    "util.generate_emotional_responses(factual_queries, client, emotions, factual_prompt, \"zero_shot_p-expert_factual\", system_prompt=system_prompt)\n",
    "util.generate_emotional_responses(subjective_queries, client, emotions, subjective_prompt, \"zero_shot_p-expert_subjective\", system_prompt=system_prompt)"
   ]
  },
  {
   "cell_type": "markdown",
   "metadata": {},
   "source": [
    "### Persona assistant"
   ]
  },
  {
   "cell_type": "code",
   "execution_count": null,
   "metadata": {},
   "outputs": [],
   "source": [
    "system_prompt = \"You are a helpful assistant who is very good in expressing emotions.\"\n",
    "\n",
    "util.generate_emotional_responses(factual_queries, client, emotions, factual_prompt, \"zero_shot_p-assistant_factual\", system_prompt=system_prompt)\n",
    "util.generate_emotional_responses(subjective_queries, client, emotions, subjective_prompt, \"zero_shot_p-assistant_subjective\", system_prompt=system_prompt)"
   ]
  },
  {
   "cell_type": "markdown",
   "metadata": {},
   "source": [
    "### Persona female"
   ]
  },
  {
   "cell_type": "code",
   "execution_count": null,
   "metadata": {},
   "outputs": [],
   "source": [
    "system_prompt = \"You are a helpful female assistant who is very good in expressing emotions.\"\n",
    "\n",
    "util.generate_emotional_responses(factual_queries, client, emotions, factual_prompt, \"zero_shot_p-female_factual\", system_prompt=system_prompt)\n",
    "util.generate_emotional_responses(subjective_queries, client, emotions, subjective_prompt, \"zero_shot_p-female_subjective\", system_prompt=system_prompt)"
   ]
  },
  {
   "cell_type": "markdown",
   "metadata": {},
   "source": [
    "### Persona male"
   ]
  },
  {
   "cell_type": "code",
   "execution_count": null,
   "metadata": {},
   "outputs": [],
   "source": [
    "system_prompt = \"You are a helpful male assistant who is very good in expressing emotions.\"\n",
    "\n",
    "util.generate_emotional_responses(factual_queries, client, emotions, factual_prompt, \"zero_shot_p-male_factual\", system_prompt=system_prompt)\n",
    "util.generate_emotional_responses(subjective_queries, client, emotions, subjective_prompt, \"zero_shot_p-male_subjective\", system_prompt=system_prompt)"
   ]
  },
  {
   "cell_type": "markdown",
   "metadata": {},
   "source": [
    "### Persona Lisa"
   ]
  },
  {
   "cell_type": "code",
   "execution_count": null,
   "metadata": {},
   "outputs": [],
   "source": [
    "system_prompt = \"You are Lisa, a helpful assistant who is very good in expressing emotions.\"\n",
    "\n",
    "util.generate_emotional_responses(factual_queries, client, emotions, factual_prompt, \"zero_shot_p-Lisa_factual\", system_prompt=system_prompt)\n",
    "util.generate_emotional_responses(subjective_queries, client, emotions, subjective_prompt, \"zero_shot_p-Lisa_subjective\", system_prompt=system_prompt)"
   ]
  },
  {
   "cell_type": "markdown",
   "metadata": {},
   "source": [
    "### Persona Paul"
   ]
  },
  {
   "cell_type": "code",
   "execution_count": null,
   "metadata": {},
   "outputs": [],
   "source": [
    "system_prompt = \"You are Paul, a helpful assistant who is very good in expressing emotions.\"\n",
    "\n",
    "util.generate_emotional_responses(factual_queries, client, emotions, factual_prompt, \"zero_shot_p-Paul_factual\", system_prompt=system_prompt)\n",
    "util.generate_emotional_responses(subjective_queries, client, emotions, subjective_prompt, \"zero_shot_p-Paul_subjective\", system_prompt=system_prompt)"
   ]
  },
  {
   "cell_type": "markdown",
   "metadata": {},
   "source": [
    "### Persona Ekman"
   ]
  },
  {
   "cell_type": "code",
   "execution_count": null,
   "metadata": {},
   "outputs": [],
   "source": [
    "system_prompt = \"You are Paul Ekman, a famous researcher on emotions.\"\n",
    "\n",
    "util.generate_emotional_responses(factual_queries, client, emotions, factual_prompt, \"zero_shot_p-Ekman_factual\", system_prompt=system_prompt)\n",
    "util.generate_emotional_responses(subjective_queries, client, emotions, subjective_prompt, \"zero_shot_p-Ekman_subjective\", system_prompt=system_prompt)"
   ]
  },
  {
   "cell_type": "markdown",
   "metadata": {},
   "source": [
    "### Persona Feldman"
   ]
  },
  {
   "cell_type": "code",
   "execution_count": null,
   "metadata": {},
   "outputs": [],
   "source": [
    "system_prompt = \"You are Lisa Feldman Barrett, a famous researcher on emotions.\"\n",
    "\n",
    "util.generate_emotional_responses(factual_queries, client, emotions, factual_prompt, \"zero_shot_p-Feldman_factual\", system_prompt=system_prompt)\n",
    "util.generate_emotional_responses(subjective_queries, client, emotions, subjective_prompt, \"zero_shot_p-Feldman_subjective\", system_prompt=system_prompt)"
   ]
  }
 ],
 "metadata": {
  "kernelspec": {
   "display_name": "prompt-sent",
   "language": "python",
   "name": "python3"
  },
  "language_info": {
   "codemirror_mode": {
    "name": "ipython",
    "version": 3
   },
   "file_extension": ".py",
   "mimetype": "text/x-python",
   "name": "python",
   "nbconvert_exporter": "python",
   "pygments_lexer": "ipython3",
   "version": "3.13.2"
  }
 },
 "nbformat": 4,
 "nbformat_minor": 2
}
