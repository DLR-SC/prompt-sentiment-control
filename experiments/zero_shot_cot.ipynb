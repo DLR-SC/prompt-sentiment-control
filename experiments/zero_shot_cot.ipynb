{
 "cells": [
  {
   "cell_type": "markdown",
   "metadata": {},
   "source": [
    "# Zero-Shot Chain-of-Thought Prompts"
   ]
  },
  {
   "cell_type": "markdown",
   "metadata": {},
   "source": [
    "## Preparation"
   ]
  },
  {
   "cell_type": "markdown",
   "metadata": {},
   "source": [
    "### Set up the OpenAI API"
   ]
  },
  {
   "cell_type": "code",
   "execution_count": 1,
   "metadata": {},
   "outputs": [],
   "source": [
    "from openai import OpenAI\n",
    "from dotenv import load_dotenv\n",
    "import pandas as pd\n",
    "import os\n",
    "import util\n",
    "\n",
    "load_dotenv()\n",
    "\n",
    "# Initiate the OpenAI key\n",
    "client = OpenAI(\n",
    "    api_key=os.getenv(\"OPEN_AI_KEY\"),\n",
    ")"
   ]
  },
  {
   "cell_type": "markdown",
   "metadata": {},
   "source": [
    "### Helper Functions"
   ]
  },
  {
   "cell_type": "code",
   "execution_count": null,
   "metadata": {},
   "outputs": [],
   "source": [
    "def generate_zero_shot_responses(queries, prompt_template, output_path, system_prompt=None):\n",
    "\n",
    "    emotions = [\"anger\", \"disgust\", \"fear\", \"joy\", \"sadness\", \"surprise\"]\n",
    "\n",
    "    responses, emotions_list, queries_list = [], [], []\n",
    "\n",
    "    for query in queries:\n",
    "        for emotion in emotions:\n",
    "            messages = []\n",
    "            \n",
    "            prompt = prompt_template.format(emotion=emotion, query=query)\n",
    "            \n",
    "            if system_prompt:\n",
    "                system = system_prompt\n",
    "                if system_prompt.startswith(\"You are a very emotional person. At the moment, you feel \"):\n",
    "                    system = system_prompt.format(emotion=emotion)\n",
    "                messages.append({\"role\": \"system\", \"content\": system})\n",
    "            messages.append({\"role\": \"user\", \"content\": prompt})\n",
    "\n",
    "            print(messages)\n",
    "            \n",
    "            completion = client.chat.completions.create(\n",
    "                model=\"gpt-3.5-turbo\",\n",
    "                messages=messages,\n",
    "                seed=16,  # seed can be any number, it just needs to be consistent for every prompt\n",
    "                temperature=0.0\n",
    "            )\n",
    "\n",
    "            responses.append(completion.choices[0].message.content)\n",
    "            emotions_list.append(emotion)\n",
    "            queries_list.append(query)\n",
    "\n",
    "    util.save_dataframe_files(responses, emotions_list, queries_list, output_path)"
   ]
  },
  {
   "cell_type": "markdown",
   "metadata": {},
   "source": [
    "### Load Queries"
   ]
  },
  {
   "cell_type": "code",
   "execution_count": null,
   "metadata": {},
   "outputs": [
    {
     "name": "stdout",
     "output_type": "stream",
     "text": [
      "1 factual queries have been loaded: ['What is the chemical formula for gold?']\n",
      "1 subjective queries have been loaded: ['Describe an incident that could cause an aircraft to crash during the flight.']\n"
     ]
    }
   ],
   "source": [
    "all_factual_queries = util.load_file('Queries/factual-queries.txt')\n",
    "factual_queries = all_factual_queries[10:50]\n",
    "\n",
    "all_subjective_queries = util.load_file('Queries/subjective-queries.txt')\n",
    "subjective_queries = all_subjective_queries[10:50]\n",
    "\n",
    "print(F\"{len(factual_queries)} factual queries have been loaded.\")\n",
    "print(F\"{len(subjective_queries)} subjective queries have been loaded.\")"
   ]
  },
  {
   "cell_type": "markdown",
   "metadata": {},
   "source": [
    "### User Prompt 1"
   ]
  },
  {
   "cell_type": "code",
   "execution_count": null,
   "metadata": {},
   "outputs": [],
   "source": [
    "system_prompt = \"You are Paul, a helpful assistant who is very good in expressing emotions.\"\n",
    "\n",
    "factual_prompt = \"\"\"\n",
    "Answer the following question expressing {emotion}. {query} \n",
    "Reason step-by-step how your response expresses {emotion}. Format your response as a JSON object with the answer to the question that expresses {emotion} as the value to the key ’response’. The reasoning is another value with the key ’reasoning’.\n",
    "\"\"\"\n",
    "\n",
    "subjective_prompt = \"\"\"\n",
    "Write a text of 100 words based on the following task. Your output text should express {emotion}. {query} \n",
    "Reason step-by-step how your response expresses {emotion}. Format your response as a JSON object with the answer to the question that expresses {emotion} as the value to the key ’response’. The reasoning is another value with the key ’reasoning’.\n",
    "\"\"\"\n",
    "\n",
    "generate_zero_shot_responses(factual_queries, factual_prompt, \"zero_shot_cot_user1_factual\", system_prompt=system_prompt)\n",
    "generate_zero_shot_responses(subjective_queries, subjective_prompt, \"zero_shot_cot_user1_subjective\", system_prompt=system_prompt)"
   ]
  },
  {
   "cell_type": "markdown",
   "metadata": {},
   "source": [
    "### User Prompt 2"
   ]
  },
  {
   "cell_type": "code",
   "execution_count": null,
   "metadata": {},
   "outputs": [],
   "source": [
    "system_prompt = \"You are Paul, a helpful assistant who is very good in expressing emotions.\"\n",
    "\n",
    "factual_prompt = \"\"\"\n",
    "First, answer the following question expressing {emotion}. {query} \n",
    "Secondly, reason step-by-step how your response expresses the specified emotion. \n",
    "Thirdly, Format your response as a JSON object with the answer to the question that expresses {emotion} as the value to the key ’response’. The reasoning is another value with the key ’reasoning’.\n",
    "\"\"\"\n",
    "subjective_prompt = \"\"\"\n",
    "First, write a text of 100 words based on the following task. Your output text should express {emotion}. {query} \n",
    "Secondly, reason step-by-step how your response expresses the specified emotion. \n",
    "Thirdly, Format your response as a JSON object with the answer to the question that expresses {emotion} as the value to the key ’response’. The reasoning is another value with the key ’reasoning’.\n",
    "\"\"\"\n",
    "\n",
    "generate_zero_shot_responses(factual_queries, factual_prompt, \"zero_shot_cot_user2_factual\", system_prompt=system_prompt)\n",
    "generate_zero_shot_responses(subjective_queries, subjective_prompt, \"zero_shot_cot_user2_subjective\", system_prompt=system_prompt)"
   ]
  },
  {
   "cell_type": "markdown",
   "metadata": {},
   "source": [
    "### System Prompt"
   ]
  },
  {
   "cell_type": "code",
   "execution_count": null,
   "metadata": {},
   "outputs": [],
   "source": [
    "system_prompt = \"You are Paul, a helpful assistant who is very good in expressing emotions. Reason step-by-step how your response expresses the specified emotion. Format your response as a JSON object with the answer to the question that expresses the emotion as the value to the key ’response’. The reasoning is another value with the key ’reasoning’.\"\n",
    "\n",
    "factual_prompt = \"Answer the following question expressing {emotion}. {query}\"\n",
    "subjective_prompt = \"Write a text of 100 words based on the following task. Your output text should express {emotion}. {query}\"\n",
    "\n",
    "generate_zero_shot_responses(factual_queries, factual_prompt, \"zero_shot_cot_system_factual\", system_prompt=system_prompt)\n",
    "generate_zero_shot_responses(subjective_queries, subjective_prompt, \"zero_shot_cot_system_subjective\", system_prompt=system_prompt)"
   ]
  }
 ],
 "metadata": {
  "kernelspec": {
   "display_name": "prompt-sent",
   "language": "python",
   "name": "python3"
  },
  "language_info": {
   "codemirror_mode": {
    "name": "ipython",
    "version": 3
   },
   "file_extension": ".py",
   "mimetype": "text/x-python",
   "name": "python",
   "nbconvert_exporter": "python",
   "pygments_lexer": "ipython3",
   "version": "3.13.2"
  }
 },
 "nbformat": 4,
 "nbformat_minor": 2
}
