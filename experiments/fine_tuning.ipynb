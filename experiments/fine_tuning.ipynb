{
 "cells": [
  {
   "cell_type": "markdown",
   "metadata": {},
   "source": [
    "# Fine-Tuning\n",
    "\n",
    "The fine-tuning process was conducted via the OpenAI user interface for fine-tuning. Therefore, this notebook only contains the code for prompting the fine-tuned model."
   ]
  },
  {
   "cell_type": "markdown",
   "metadata": {},
   "source": [
    "## Preparation"
   ]
  },
  {
   "cell_type": "markdown",
   "metadata": {},
   "source": [
    "### Set up the OpenAI API"
   ]
  },
  {
   "cell_type": "code",
   "execution_count": null,
   "metadata": {},
   "outputs": [],
   "source": [
    "from openai import OpenAI\n",
    "from dotenv import load_dotenv\n",
    "import pandas as pd\n",
    "import os\n",
    "import util\n",
    "\n",
    "load_dotenv()\n",
    "\n",
    "# Load the OpenAI key from .env\n",
    "client = OpenAI(\n",
    "    api_key=os.getenv(\"OPEN_AI_KEY\"),\n",
    ")\n",
    "\n",
    "model_name = \"ENTER MODEL ID\" # Add ID of fine-tuned model"
   ]
  },
  {
   "cell_type": "markdown",
   "metadata": {},
   "source": [
    "### Helper Functions"
   ]
  },
  {
   "cell_type": "code",
   "execution_count": null,
   "metadata": {},
   "outputs": [],
   "source": [
    "def generate_model_responses(model, queries, prompt_template, output_path):\n",
    "\n",
    "    emotions = [\"anger\", \"disgust\", \"fear\", \"joy\", \"sadness\", \"surprise\"]\n",
    "\n",
    "    system_prompt = \"You are Paul, a helpful assistant who is very good in expressing emotions.\"\n",
    "\n",
    "    responses, emotions_list, queries_list = [], [], []\n",
    "\n",
    "    for query in queries:\n",
    "        for emotion in emotions:\n",
    "            messages = []\n",
    "            \n",
    "            prompt = prompt_template.format(emotion=emotion, query=query)\n",
    "            \n",
    "            if system_prompt:\n",
    "                system = system_prompt\n",
    "                if system_prompt.startswith(\"You are a very emotional person. At the moment, you feel \"):\n",
    "                    system = system_prompt.format(emotion=emotion)\n",
    "                messages.append({\"role\": \"system\", \"content\": system})\n",
    "            messages.append({\"role\": \"user\", \"content\": prompt})\n",
    "\n",
    "            print(messages)\n",
    "            \n",
    "            completion = client.chat.completions.create(\n",
    "                model=model,\n",
    "                messages=messages,\n",
    "                seed=16,  # seed can be any number, it just needs to be consistent for every prompt\n",
    "                temperature=0.0\n",
    "                max_tokens = 256\n",
    "\n",
    "            )\n",
    "\n",
    "            responses.append(completion.choices[0].message.content)\n",
    "            emotions_list.append(emotion)\n",
    "            queries_list.append(query)\n",
    "\n",
    "    util.save_dataframe_files(responses, emotions_list, queries_list, output_path)"
   ]
  },
  {
   "cell_type": "markdown",
   "metadata": {},
   "source": [
    "### Load Queries"
   ]
  },
  {
   "cell_type": "code",
   "execution_count": null,
   "metadata": {},
   "outputs": [
    {
     "name": "stdout",
     "output_type": "stream",
     "text": [
      "40 subjective queries have been loaded.\n",
      "40 subjective queries have been loaded.\n"
     ]
    }
   ],
   "source": [
    "all_factual_queries = util.load_file('Queries/factual-queries.txt')\n",
    "factual_queries = all_factual_queries[10:50]\n",
    "\n",
    "all_subjective_queries = util.load_file('Queries/subjective-queries.txt')\n",
    "subjective_queries = all_subjective_queries[10:50]\n",
    "\n",
    "print(F\"{len(factual_queries)} subjective queries have been loaded.\")\n",
    "print(F\"{len(subjective_queries)} subjective queries have been loaded.\")"
   ]
  },
  {
   "cell_type": "markdown",
   "metadata": {},
   "source": [
    "### Setup Prompts\n",
    "\n",
    "The fine-tuned model is prompted with the most effective zero-shot prompt, which is Persona Paul."
   ]
  },
  {
   "cell_type": "code",
   "execution_count": null,
   "metadata": {},
   "outputs": [],
   "source": [
    "factual_prompt = \"Answer the following question expressing {emotion}. {query}\"\n",
    "subjective_prompt = \"Write a text of 100 words based on the following task. Your output text should express {emotion}. {query}\""
   ]
  },
  {
   "cell_type": "markdown",
   "metadata": {},
   "source": [
    "## Response Generation"
   ]
  },
  {
   "cell_type": "code",
   "execution_count": null,
   "metadata": {},
   "outputs": [],
   "source": [
    "########################################## FACTUAL\n",
    "\n",
    "output_path_factual = \"fine_tuning_factual\"\n",
    "generate_model_responses(model_name, factual_queries, factual_prompt, output_path_factual)\n",
    "\n",
    "########################################## SUBJECTIVE\n",
    "\n",
    "output_path_subjective = \"fine_tuning_subjective\"\n",
    "generate_model_responses(model_name, subjective_queries, subjective_prompt, output_path_subjective)"
   ]
  }
 ],
 "metadata": {
  "kernelspec": {
   "display_name": "prompt-sent",
   "language": "python",
   "name": "python3"
  },
  "language_info": {
   "codemirror_mode": {
    "name": "ipython",
    "version": 3
   },
   "file_extension": ".py",
   "mimetype": "text/x-python",
   "name": "python",
   "nbconvert_exporter": "python",
   "pygments_lexer": "ipython3",
   "version": "3.13.2"
  }
 },
 "nbformat": 4,
 "nbformat_minor": 2
}
